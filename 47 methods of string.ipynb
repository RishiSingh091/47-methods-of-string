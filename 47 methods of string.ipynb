{
 "cells": [
  {
   "cell_type": "code",
   "execution_count": 11,
   "id": "894de26f-7de2-467e-ac33-6d79ad769ef5",
   "metadata": {},
   "outputs": [
    {
     "data": {
      "text/plain": [
       "'I am learning python'"
      ]
     },
     "execution_count": 11,
     "metadata": {},
     "output_type": "execute_result"
    }
   ],
   "source": [
    "# 1. The capitalize method converts the first character of the string to a capital letter\n",
    "\n",
    "string= \"i am learning python\"\n",
    "string.capitalize()"
   ]
  },
  {
   "cell_type": "code",
   "execution_count": 13,
   "id": "2c7f1eaa-f848-4427-b550-8d6837dfe703",
   "metadata": {},
   "outputs": [
    {
     "data": {
      "text/plain": [
       "'python'"
      ]
     },
     "execution_count": 13,
     "metadata": {},
     "output_type": "execute_result"
    }
   ],
   "source": [
    "# 2. The casefold method converts capital letters into small letter\n",
    "\n",
    "string= \"PYTHON\"\n",
    "string.casefold()"
   ]
  },
  {
   "cell_type": "code",
   "execution_count": 17,
   "id": "110a47db-4838-486e-9d90-7798c54d9ac0",
   "metadata": {},
   "outputs": [
    {
     "data": {
      "text/plain": [
       "'                    I am learning python                    '"
      ]
     },
     "execution_count": 17,
     "metadata": {},
     "output_type": "execute_result"
    }
   ],
   "source": [
    "# 3. The center method adds character to the center\n",
    "\n",
    "string= 'I am learning python'\n",
    "string.center(60)"
   ]
  },
  {
   "cell_type": "code",
   "execution_count": 24,
   "id": "fb6ff28a-a0ca-4d9c-a809-d6983ffd547b",
   "metadata": {},
   "outputs": [
    {
     "data": {
      "text/plain": [
       "3"
      ]
     },
     "execution_count": 24,
     "metadata": {},
     "output_type": "execute_result"
    }
   ],
   "source": [
    "# 4. The count method counts a substring in the string\n",
    "int = '12226667770000'\n",
    "int.count('6')"
   ]
  },
  {
   "cell_type": "code",
   "execution_count": 25,
   "id": "1902d52a-e274-448f-abda-1c1eed1e4689",
   "metadata": {},
   "outputs": [],
   "source": [
    "# 5. Encode\n",
    "string = 'python'"
   ]
  },
  {
   "cell_type": "code",
   "execution_count": 32,
   "id": "d8380c59-8e5e-4bed-958f-53729af77aca",
   "metadata": {},
   "outputs": [
    {
     "data": {
      "text/plain": [
       "True"
      ]
     },
     "execution_count": 32,
     "metadata": {},
     "output_type": "execute_result"
    }
   ],
   "source": [
    "''' 6. The endswith method shows true if the last letter of the string is matching from the \n",
    "given string otherwise it will show false.'''\n",
    "\n",
    "string= 'Apple'\n",
    "string.endswith('e')\n"
   ]
  },
  {
   "cell_type": "code",
   "execution_count": 33,
   "id": "89bbe50c-7390-4e1b-8628-3aa985f4d2f7",
   "metadata": {},
   "outputs": [],
   "source": [
    "# 7. Expand tabs\n",
    "\n"
   ]
  },
  {
   "cell_type": "code",
   "execution_count": 3,
   "id": "19e2e8e5-07b2-4077-a01c-55f74a036cc8",
   "metadata": {},
   "outputs": [
    {
     "data": {
      "text/plain": [
       "14"
      ]
     },
     "execution_count": 3,
     "metadata": {},
     "output_type": "execute_result"
    }
   ],
   "source": [
    "# 8. The find method helps to locate the exact position of the string and also counts the position of the string\n",
    "\n",
    "string = 'I am learning python'\n",
    "string.find('python')"
   ]
  },
  {
   "cell_type": "code",
   "execution_count": 14,
   "id": "aa535136-2e46-4e09-8a31-c238b01bc89d",
   "metadata": {},
   "outputs": [
    {
     "name": "stdout",
     "output_type": "stream",
     "text": [
      "Hello python\n"
     ]
    }
   ],
   "source": [
    "# 9. Format method used to insert values into the placeholder positions \n",
    "\n",
    "string = \"Hello\"\n",
    "string = \"python\"\n",
    "print(\"{} {}\".format(\"Hello\", \"python\"))"
   ]
  },
  {
   "cell_type": "code",
   "execution_count": 17,
   "id": "dd901235-0dbd-4b9e-838e-9dc3bf1ef562",
   "metadata": {},
   "outputs": [],
   "source": [
    "# 10 format map\n"
   ]
  },
  {
   "cell_type": "code",
   "execution_count": 23,
   "id": "ddcc410d-15ec-4ebc-ad74-a1fa4725c53d",
   "metadata": {},
   "outputs": [
    {
     "data": {
      "text/plain": [
       "True"
      ]
     },
     "execution_count": 23,
     "metadata": {},
     "output_type": "execute_result"
    }
   ],
   "source": [
    "# 11 The isalnum method is used to see if the given characters are alphanumeric or not\n",
    "\n",
    "str = \"abcd1234\"\n",
    "str.isalnum()"
   ]
  },
  {
   "cell_type": "code",
   "execution_count": 26,
   "id": "30919781-ea6e-4090-961a-7b32d8df4a7f",
   "metadata": {},
   "outputs": [
    {
     "data": {
      "text/plain": [
       "True"
      ]
     },
     "execution_count": 26,
     "metadata": {},
     "output_type": "execute_result"
    }
   ],
   "source": [
    "# 12 The isalpha shows true if all characters in the sting are alphabets\n",
    "\n",
    "str ='python'\n",
    "str.isalpha()"
   ]
  },
  {
   "cell_type": "code",
   "execution_count": 47,
   "id": "babab286-7926-476d-9c1f-788efd24cf02",
   "metadata": {},
   "outputs": [
    {
     "data": {
      "text/plain": [
       "True"
      ]
     },
     "execution_count": 47,
     "metadata": {},
     "output_type": "execute_result"
    }
   ],
   "source": [
    "# 13 The isdecimal method returns true if all characters in the integer are decimal\n",
    "\n",
    "int = \"1094\"\n",
    "int.isdecimal()"
   ]
  },
  {
   "cell_type": "code",
   "execution_count": 53,
   "id": "6f5cd4f6-afa7-4e37-9f3d-6b41f35ad4e3",
   "metadata": {},
   "outputs": [
    {
     "data": {
      "text/plain": [
       "True"
      ]
     },
     "execution_count": 53,
     "metadata": {},
     "output_type": "execute_result"
    }
   ],
   "source": [
    "# 14 The isdigit method returns true if all characters in the integer are digit\n",
    "\n",
    "int = '44343'\n",
    "int.isdigit()"
   ]
  },
  {
   "cell_type": "code",
   "execution_count": 7,
   "id": "62aee8b0-3227-45b1-9aa7-39c038209235",
   "metadata": {},
   "outputs": [
    {
     "data": {
      "text/plain": [
       "True"
      ]
     },
     "execution_count": 7,
     "metadata": {},
     "output_type": "execute_result"
    }
   ],
   "source": [
    "# 15 The isidentifier returns true if given strings contain numbers letters and an underscore.\n",
    "\n",
    "str1 = 'python'\n",
    "str1.isidentifier()\n"
   ]
  },
  {
   "cell_type": "code",
   "execution_count": 10,
   "id": "d6b97190-a118-421c-b908-8e79e1ec2873",
   "metadata": {},
   "outputs": [
    {
     "data": {
      "text/plain": [
       "True"
      ]
     },
     "execution_count": 10,
     "metadata": {},
     "output_type": "execute_result"
    }
   ],
   "source": [
    "# 16 The islower method returns true if the given string is in lowercase.\n",
    "str = 'python'\n",
    "str.islower()"
   ]
  },
  {
   "cell_type": "code",
   "execution_count": 13,
   "id": "fe5877eb-5963-41de-b78d-c1b9850acc43",
   "metadata": {},
   "outputs": [
    {
     "data": {
      "text/plain": [
       "True"
      ]
     },
     "execution_count": 13,
     "metadata": {},
     "output_type": "execute_result"
    }
   ],
   "source": [
    "# 17 The isnumeric method returns true if the given string is in numbers\n",
    "str = '7896'\n",
    "str.isnumeric()"
   ]
  },
  {
   "cell_type": "code",
   "execution_count": 18,
   "id": "c7380ce5-e4cd-4381-97fe-7823eba32c45",
   "metadata": {},
   "outputs": [
    {
     "data": {
      "text/plain": [
       "True"
      ]
     },
     "execution_count": 18,
     "metadata": {},
     "output_type": "execute_result"
    }
   ],
   "source": [
    "# 18 The isprintable method returns true if the process is printable\n",
    "\n",
    "str = 'I am learning python'\n",
    "str.isprintable()"
   ]
  },
  {
   "cell_type": "code",
   "execution_count": 20,
   "id": "27a7c089-ee59-4a5b-9406-11b88ff54338",
   "metadata": {},
   "outputs": [
    {
     "data": {
      "text/plain": [
       "True"
      ]
     },
     "execution_count": 20,
     "metadata": {},
     "output_type": "execute_result"
    }
   ],
   "source": [
    "# 19 The isspace method returns true if all characters in the string are whitespace characters.\n",
    "str = ' '\n",
    "str.isspace()"
   ]
  },
  {
   "cell_type": "code",
   "execution_count": 29,
   "id": "6aa7a4c0-6540-449c-9131-520a8e593cb8",
   "metadata": {},
   "outputs": [
    {
     "data": {
      "text/plain": [
       "True"
      ]
     },
     "execution_count": 29,
     "metadata": {},
     "output_type": "execute_result"
    }
   ],
   "source": [
    "#20 The istitle method returns true if the first letter of the string is uppercase this method ignores digit.\n",
    "\n",
    "str = 'Python'\n",
    "str.istitle()"
   ]
  },
  {
   "cell_type": "code",
   "execution_count": 33,
   "id": "62013b9f-bff8-4bb6-8790-55f281c2d923",
   "metadata": {},
   "outputs": [
    {
     "data": {
      "text/plain": [
       "True"
      ]
     },
     "execution_count": 33,
     "metadata": {},
     "output_type": "execute_result"
    }
   ],
   "source": [
    "#21 The isupper methods return true if all characters in the string are uppercase\n",
    "\n",
    "str = 'PYTHON'\n",
    "str.isupper()"
   ]
  },
  {
   "cell_type": "code",
   "execution_count": 9,
   "id": "7da3bf1a-a87b-4013-a273-c71752b38c41",
   "metadata": {},
   "outputs": [
    {
     "name": "stdout",
     "output_type": "stream",
     "text": [
      "I am learning python\n"
     ]
    }
   ],
   "source": [
    "# 22 The use of the join method \n",
    "\n",
    "str1 = ['I', 'am', 'learning', 'python']\n",
    "str2= \" \".join(str1)\n",
    "print(str2)"
   ]
  },
  {
   "cell_type": "code",
   "execution_count": 26,
   "id": "bbc4d3b4-1c9b-4cca-bcaa-a39f94132620",
   "metadata": {},
   "outputs": [
    {
     "name": "stdout",
     "output_type": "stream",
     "text": [
      "python\n"
     ]
    }
   ],
   "source": [
    "#23\n",
    "\n",
    "str = \"python\"\n",
    "str2 = str.ljust(40)\n",
    "print(str)"
   ]
  },
  {
   "cell_type": "code",
   "execution_count": 18,
   "id": "cd36692c-2b5a-44f6-bae8-d2834cd2e96b",
   "metadata": {},
   "outputs": [
    {
     "data": {
      "text/plain": [
       "'python'"
      ]
     },
     "execution_count": 18,
     "metadata": {},
     "output_type": "execute_result"
    }
   ],
   "source": [
    "# 24 The lower method converts an uppercase string into a lowercase\n",
    "str = \"PYTHON\"\n",
    "str.lower()"
   ]
  },
  {
   "cell_type": "code",
   "execution_count": 30,
   "id": "03950e90-c7e5-4c39-ba71-c5bb2272899c",
   "metadata": {},
   "outputs": [
    {
     "data": {
      "text/plain": [
       "'python'"
      ]
     },
     "execution_count": 30,
     "metadata": {},
     "output_type": "execute_result"
    }
   ],
   "source": [
    "# 25 The lstrip method is used to clear unwanted characters from the beginning left side of the string\n",
    "str = \"@@@python\"\n",
    "str.lstrip('@')"
   ]
  },
  {
   "cell_type": "code",
   "execution_count": 31,
   "id": "97ae791d-660e-41ca-b42d-4eef70f6e1da",
   "metadata": {},
   "outputs": [],
   "source": [
    "# 26 maketrans \n",
    "\n"
   ]
  },
  {
   "cell_type": "code",
   "execution_count": 1,
   "id": "5afa3fb7-e4c9-4aed-bfbb-102e52730f25",
   "metadata": {},
   "outputs": [
    {
     "data": {
      "text/plain": [
       "('I am ', 'learning', ' Python')"
      ]
     },
     "execution_count": 1,
     "metadata": {},
     "output_type": "execute_result"
    }
   ],
   "source": [
    "# 27 The partition method splits the string into three parts \n",
    "\n",
    "str= \"I am learning Python\"\n",
    "str.partition('learning')"
   ]
  },
  {
   "cell_type": "code",
   "execution_count": 13,
   "id": "9693813f-b597-4bee-81cd-a115aaa378fa",
   "metadata": {},
   "outputs": [
    {
     "data": {
      "text/plain": [
       "'thon'"
      ]
     },
     "execution_count": 13,
     "metadata": {},
     "output_type": "execute_result"
    }
   ],
   "source": [
    "# 28 The removeprefix starts to Remove from the first character of the strings\n",
    "\n",
    "\n",
    "str = 'python'\n",
    "str.removeprefix('py')"
   ]
  },
  {
   "cell_type": "code",
   "execution_count": 15,
   "id": "244200cd-b65a-4aa6-b1cc-232354a0e72d",
   "metadata": {},
   "outputs": [
    {
     "data": {
      "text/plain": [
       "'I am learning py'"
      ]
     },
     "execution_count": 15,
     "metadata": {},
     "output_type": "execute_result"
    }
   ],
   "source": [
    "# 29 The removesuffix starts to Remove from the last character of the strings\n",
    "\n",
    "str = 'I am learning python'\n",
    "str.removesuffix('thon')"
   ]
  },
  {
   "cell_type": "code",
   "execution_count": 18,
   "id": "a4e11867-2d15-4ee2-b975-3fdb62e67197",
   "metadata": {},
   "outputs": [
    {
     "data": {
      "text/plain": [
       "'I am learning java'"
      ]
     },
     "execution_count": 18,
     "metadata": {},
     "output_type": "execute_result"
    }
   ],
   "source": [
    "# 30 The replace method used to replace a particular word with a different one.\n",
    "\n",
    "str = 'I am learning python'\n",
    "str.replace('python', 'java')"
   ]
  },
  {
   "cell_type": "code",
   "execution_count": 19,
   "id": "12172111-2007-4c80-ba06-47bcef63f9c7",
   "metadata": {},
   "outputs": [
    {
     "data": {
      "text/plain": [
       "2"
      ]
     },
     "execution_count": 19,
     "metadata": {},
     "output_type": "execute_result"
    }
   ],
   "source": [
    "# 31 The rfind method is used when you want to find the word in long paragraphs that come more than once use this method.\n",
    "\n",
    "str = 'I am learning python'\n",
    "str.rfind('am')"
   ]
  },
  {
   "cell_type": "code",
   "execution_count": 22,
   "id": "ba7de1a2-e130-4e70-97df-acad2eae0724",
   "metadata": {},
   "outputs": [
    {
     "data": {
      "text/plain": [
       "5"
      ]
     },
     "execution_count": 22,
     "metadata": {},
     "output_type": "execute_result"
    }
   ],
   "source": [
    "#32 The rindex method is used when you want to find the word in long paragraphs that come more than once use this method.\n",
    "#  It's very similar to the rfind() method, but with a key difference: If the word isn't found, rindex() throws an error instead of returning -1.\n",
    "\n",
    "str = 'I am learning python'\n",
    "str.rindex('learning')"
   ]
  },
  {
   "cell_type": "code",
   "execution_count": 25,
   "id": "4717fcf9-bc0c-4c8d-932c-775494be8fce",
   "metadata": {},
   "outputs": [
    {
     "data": {
      "text/plain": [
       "'         python'"
      ]
     },
     "execution_count": 25,
     "metadata": {},
     "output_type": "execute_result"
    }
   ],
   "source": [
    "# 33 The rjust method is used to give some extra space to the left side of the word\n",
    "\n",
    "str = 'python'\n",
    "str.rjust(15)"
   ]
  },
  {
   "cell_type": "code",
   "execution_count": 29,
   "id": "057bf4ea-a05e-4a00-8aaa-cd98a36562eb",
   "metadata": {},
   "outputs": [],
   "source": [
    "# 34 \n",
    "\n",
    "str. rpartition"
   ]
  },
  {
   "cell_type": "code",
   "execution_count": 30,
   "id": "0d26d0aa-f07a-4366-a7d4-c6d9b7fdcbcb",
   "metadata": {},
   "outputs": [
    {
     "data": {
      "text/plain": [
       "['I', 'am', 'learning', 'python']"
      ]
     },
     "execution_count": 30,
     "metadata": {},
     "output_type": "execute_result"
    }
   ],
   "source": [
    "# 35 The rsplit method splits a string into a list of smaller strings using a seprator\n",
    "\n",
    "str = 'I am learning python'\n",
    "str.rsplit()"
   ]
  },
  {
   "cell_type": "code",
   "execution_count": 37,
   "id": "7e333ceb-3f33-41bc-b93b-b291ec717c5f",
   "metadata": {},
   "outputs": [
    {
     "data": {
      "text/plain": [
       "'Hello python'"
      ]
     },
     "execution_count": 37,
     "metadata": {},
     "output_type": "execute_result"
    }
   ],
   "source": [
    "# 36 The rstrip method is used to clear unwanted characters from the right side of the string\n",
    "\n",
    "\n",
    "str = \"Hello python####\"\n",
    "str.rstrip(\"#\")"
   ]
  },
  {
   "cell_type": "code",
   "execution_count": 38,
   "id": "b296aebe-f4bd-443c-a311-ebac2dade94f",
   "metadata": {},
   "outputs": [
    {
     "data": {
      "text/plain": [
       "['Hello', 'world']"
      ]
     },
     "execution_count": 38,
     "metadata": {},
     "output_type": "execute_result"
    }
   ],
   "source": [
    "# 37 The split function method is used to split strings into smaller strings by using seprator\n",
    "\n",
    "str = 'Hello world'\n",
    "str.split()"
   ]
  },
  {
   "cell_type": "code",
   "execution_count": 41,
   "id": "9441f9a1-ac83-45f9-9528-1a90b36c7d39",
   "metadata": {},
   "outputs": [
    {
     "data": {
      "text/plain": [
       "['my name is Rishi', 'I am learning', 'python']"
      ]
     },
     "execution_count": 41,
     "metadata": {},
     "output_type": "execute_result"
    }
   ],
   "source": [
    "# 38 The splitlines method is used to separate lines of text separately.\n",
    "\n",
    "str = 'my name is Rishi\\nI am learning\\npython'\n",
    "str.splitlines()"
   ]
  },
  {
   "cell_type": "code",
   "execution_count": 48,
   "id": "966d1c32-b6a8-4e47-8002-4144c51fd960",
   "metadata": {},
   "outputs": [
    {
     "data": {
      "text/plain": [
       "True"
      ]
     },
     "execution_count": 48,
     "metadata": {},
     "output_type": "execute_result"
    }
   ],
   "source": [
    "''' 39 The startswith function checks if a string starts with a specified word was found in \n",
    "sentence then it returns true otherwise it returns false'''\n",
    "\n",
    "str = 'Hello world'\n",
    "str.startswith('Hello')"
   ]
  },
  {
   "cell_type": "code",
   "execution_count": 49,
   "id": "49a3be8c-5dd9-4f98-aa95-ef2b30377126",
   "metadata": {},
   "outputs": [
    {
     "data": {
      "text/plain": [
       "'Hello, World'"
      ]
     },
     "execution_count": 49,
     "metadata": {},
     "output_type": "execute_result"
    }
   ],
   "source": [
    "# 40 The strip function method removes unwanted characters from the left and right sides of the string\n",
    "\n",
    "str = '####Hello, World@@@'\n",
    "str.strip('#@')"
   ]
  },
  {
   "cell_type": "code",
   "execution_count": 2,
   "id": "bbe03ea0-6f00-4395-82f7-f341683edf6d",
   "metadata": {},
   "outputs": [
    {
     "data": {
      "text/plain": [
       "'PYTHON'"
      ]
     },
     "execution_count": 2,
     "metadata": {},
     "output_type": "execute_result"
    }
   ],
   "source": [
    "# 41 The swapcase function method is used to swap lowercase into uppercase and vice versa\n",
    "\n",
    "str = 'python'\n",
    "str.swapcase()"
   ]
  },
  {
   "cell_type": "code",
   "execution_count": 5,
   "id": "e3d16724-83c3-4d20-a2d8-337f766b9f96",
   "metadata": {},
   "outputs": [
    {
     "data": {
      "text/plain": [
       "'I Am Learning Python'"
      ]
     },
     "execution_count": 5,
     "metadata": {},
     "output_type": "execute_result"
    }
   ],
   "source": [
    "''' 42 The title method is used to transform a string into a title case. This means it capitalizes \n",
    "the first letter of each word in the string while converting the remaining letters to lowercase.'''\n",
    "\n",
    "str = 'i am learning python'\n",
    "str.title()"
   ]
  },
  {
   "cell_type": "code",
   "execution_count": 8,
   "id": "fcf67a28-82da-48b7-aef2-6b20963e93b0",
   "metadata": {},
   "outputs": [],
   "source": [
    "# 43 \n",
    "\n",
    "str.translate"
   ]
  },
  {
   "cell_type": "code",
   "execution_count": 9,
   "id": "96697dc0-e2e2-4da9-87d5-279bf81964f2",
   "metadata": {},
   "outputs": [
    {
     "data": {
      "text/plain": [
       "'HELLO WORLD'"
      ]
     },
     "execution_count": 9,
     "metadata": {},
     "output_type": "execute_result"
    }
   ],
   "source": [
    "# 44 The upper function method is used to convert all lowercase strings into uppercase\n",
    "\n",
    "str = 'Hello world'\n",
    "str.upper()"
   ]
  },
  {
   "cell_type": "code",
   "execution_count": 15,
   "id": "3d131f25-47e2-4dd1-8a26-56d172f4dbde",
   "metadata": {},
   "outputs": [
    {
     "data": {
      "text/plain": [
       "'00059'"
      ]
     },
     "execution_count": 15,
     "metadata": {},
     "output_type": "execute_result"
    }
   ],
   "source": [
    "# 45 the zfill method is used If the number is too short and you want to add it with zeros on the left to reach the desired length.\n",
    "\n",
    "str = '59'\n",
    "str.zfill(5)"
   ]
  },
  {
   "cell_type": "code",
   "execution_count": 19,
   "id": "a705eae0-9d2b-4bae-85cb-1b8a52c865f7",
   "metadata": {},
   "outputs": [
    {
     "data": {
      "text/plain": [
       "5"
      ]
     },
     "execution_count": 19,
     "metadata": {},
     "output_type": "execute_result"
    }
   ],
   "source": [
    "# 46 The index method is used to find words that are used multiple times in a sentence and returns its position in index\n",
    "\n",
    "str = 'I am learning python'\n",
    "str.index('learning') "
   ]
  },
  {
   "cell_type": "code",
   "execution_count": 25,
   "id": "4a27f07c-1a34-4cd7-88fc-015bf91550fd",
   "metadata": {},
   "outputs": [
    {
     "data": {
      "text/plain": [
       "True"
      ]
     },
     "execution_count": 25,
     "metadata": {},
     "output_type": "execute_result"
    }
   ],
   "source": [
    "# 47 The isascii method will give true when the isascii characters found in the given strings\n",
    "\n",
    "str = '45654'\n",
    "str.isascii()"
   ]
  },
  {
   "cell_type": "code",
   "execution_count": null,
   "id": "f5e450b9-fd11-45c2-8b8b-b44013e04def",
   "metadata": {},
   "outputs": [],
   "source": []
  }
 ],
 "metadata": {
  "kernelspec": {
   "display_name": "Python 3 (ipykernel)",
   "language": "python",
   "name": "python3"
  },
  "language_info": {
   "codemirror_mode": {
    "name": "ipython",
    "version": 3
   },
   "file_extension": ".py",
   "mimetype": "text/x-python",
   "name": "python",
   "nbconvert_exporter": "python",
   "pygments_lexer": "ipython3",
   "version": "3.10.2"
  }
 },
 "nbformat": 4,
 "nbformat_minor": 5
}
